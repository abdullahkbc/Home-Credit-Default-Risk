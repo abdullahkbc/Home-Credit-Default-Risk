{
 "cells": [
  {
   "cell_type": "code",
   "execution_count": 2,
   "metadata": {
    "colab": {
     "base_uri": "https://localhost:8080/"
    },
    "executionInfo": {
     "elapsed": 34470,
     "status": "ok",
     "timestamp": 1630501619026,
     "user": {
      "displayName": "Muhammet E.",
      "photoUrl": "https://lh3.googleusercontent.com/a-/AOh14GjR_Aur_0PxqIgoZ3YMoG4u-dCU_VTO0xRKuwEc=s64",
      "userId": "15007305613769181193"
     },
     "user_tz": -120
    },
    "id": "7Ggv1-Po7Cvm",
    "outputId": "1cf7fed9-fd29-4129-fedd-e1436f263784"
   },
   "outputs": [
    {
     "name": "stdout",
     "output_type": "stream",
     "text": [
      "Mounted at /content/drive\n"
     ]
    }
   ],
   "source": [
    "# Running the Colab Drive\n",
    "\n",
    "from google.colab import drive\n",
    "drive.mount('/content/drive')"
   ]
  },
  {
   "cell_type": "code",
   "execution_count": 1,
   "metadata": {
    "executionInfo": {
     "elapsed": 497,
     "status": "ok",
     "timestamp": 1630501619503,
     "user": {
      "displayName": "Muhammet E.",
      "photoUrl": "https://lh3.googleusercontent.com/a-/AOh14GjR_Aur_0PxqIgoZ3YMoG4u-dCU_VTO0xRKuwEc=s64",
      "userId": "15007305613769181193"
     },
     "user_tz": -120
    },
    "id": "9iTVtubX7fa1"
   },
   "outputs": [],
   "source": [
    "import pandas as pd\n",
    "import numpy as np"
   ]
  },
  {
   "cell_type": "code",
   "execution_count": 3,
   "metadata": {
    "colab": {
     "base_uri": "https://localhost:8080/",
     "height": 204
    },
    "executionInfo": {
     "elapsed": 7992,
     "status": "ok",
     "timestamp": 1630501627677,
     "user": {
      "displayName": "Muhammet E.",
      "photoUrl": "https://lh3.googleusercontent.com/a-/AOh14GjR_Aur_0PxqIgoZ3YMoG4u-dCU_VTO0xRKuwEc=s64",
      "userId": "15007305613769181193"
     },
     "user_tz": -120
    },
    "id": "tnMLixm07hR8",
    "outputId": "7b274fae-ef9e-4e6f-d611-412b47d740e4"
   },
   "outputs": [
    {
     "data": {
      "text/html": [
       "<div>\n",
       "<style scoped>\n",
       "    .dataframe tbody tr th:only-of-type {\n",
       "        vertical-align: middle;\n",
       "    }\n",
       "\n",
       "    .dataframe tbody tr th {\n",
       "        vertical-align: top;\n",
       "    }\n",
       "\n",
       "    .dataframe thead th {\n",
       "        text-align: right;\n",
       "    }\n",
       "</style>\n",
       "<table border=\"1\" class=\"dataframe\">\n",
       "  <thead>\n",
       "    <tr style=\"text-align: right;\">\n",
       "      <th></th>\n",
       "      <th>SK_ID_BUREAU</th>\n",
       "      <th>MONTHS_BALANCE</th>\n",
       "      <th>STATUS</th>\n",
       "    </tr>\n",
       "  </thead>\n",
       "  <tbody>\n",
       "    <tr>\n",
       "      <th>0</th>\n",
       "      <td>5715448</td>\n",
       "      <td>0</td>\n",
       "      <td>C</td>\n",
       "    </tr>\n",
       "    <tr>\n",
       "      <th>1</th>\n",
       "      <td>5715448</td>\n",
       "      <td>-1</td>\n",
       "      <td>C</td>\n",
       "    </tr>\n",
       "    <tr>\n",
       "      <th>2</th>\n",
       "      <td>5715448</td>\n",
       "      <td>-2</td>\n",
       "      <td>C</td>\n",
       "    </tr>\n",
       "    <tr>\n",
       "      <th>3</th>\n",
       "      <td>5715448</td>\n",
       "      <td>-3</td>\n",
       "      <td>C</td>\n",
       "    </tr>\n",
       "    <tr>\n",
       "      <th>4</th>\n",
       "      <td>5715448</td>\n",
       "      <td>-4</td>\n",
       "      <td>C</td>\n",
       "    </tr>\n",
       "  </tbody>\n",
       "</table>\n",
       "</div>"
      ],
      "text/plain": [
       "   SK_ID_BUREAU  MONTHS_BALANCE STATUS\n",
       "0       5715448               0      C\n",
       "1       5715448              -1      C\n",
       "2       5715448              -2      C\n",
       "3       5715448              -3      C\n",
       "4       5715448              -4      C"
      ]
     },
     "execution_count": 3,
     "metadata": {},
     "output_type": "execute_result"
    }
   ],
   "source": [
    "# Opening the Dataframe \"Bureau_Balance\"\n",
    "\n",
    "bb = pd.read_csv(\"C:\\\\Users\\\\kbc\\Downloads\\\\home-credit-default-risk\\\\bureau_balance.csv\")\n",
    "bb.head()"
   ]
  },
  {
   "cell_type": "markdown",
   "metadata": {},
   "source": [
    "Analysing the data in mainlines"
   ]
  },
  {
   "cell_type": "code",
   "execution_count": 4,
   "metadata": {
    "colab": {
     "base_uri": "https://localhost:8080/",
     "height": 111
    },
    "executionInfo": {
     "elapsed": 1080,
     "status": "ok",
     "timestamp": 1630501628741,
     "user": {
      "displayName": "Muhammet E.",
      "photoUrl": "https://lh3.googleusercontent.com/a-/AOh14GjR_Aur_0PxqIgoZ3YMoG4u-dCU_VTO0xRKuwEc=s64",
      "userId": "15007305613769181193"
     },
     "user_tz": -120
    },
    "id": "6Wr5AmYy770C",
    "outputId": "40fdb0fd-fa30-4f82-9d11-be11aa34288d"
   },
   "outputs": [
    {
     "data": {
      "text/html": [
       "<div>\n",
       "<style scoped>\n",
       "    .dataframe tbody tr th:only-of-type {\n",
       "        vertical-align: middle;\n",
       "    }\n",
       "\n",
       "    .dataframe tbody tr th {\n",
       "        vertical-align: top;\n",
       "    }\n",
       "\n",
       "    .dataframe thead th {\n",
       "        text-align: right;\n",
       "    }\n",
       "</style>\n",
       "<table border=\"1\" class=\"dataframe\">\n",
       "  <thead>\n",
       "    <tr style=\"text-align: right;\">\n",
       "      <th></th>\n",
       "      <th>count</th>\n",
       "      <th>mean</th>\n",
       "      <th>std</th>\n",
       "      <th>min</th>\n",
       "      <th>25%</th>\n",
       "      <th>50%</th>\n",
       "      <th>75%</th>\n",
       "      <th>max</th>\n",
       "    </tr>\n",
       "  </thead>\n",
       "  <tbody>\n",
       "    <tr>\n",
       "      <th>SK_ID_BUREAU</th>\n",
       "      <td>27299925.0</td>\n",
       "      <td>6.036297e+06</td>\n",
       "      <td>492348.856904</td>\n",
       "      <td>5001709.0</td>\n",
       "      <td>5730933.0</td>\n",
       "      <td>6070821.0</td>\n",
       "      <td>6431951.0</td>\n",
       "      <td>6842888.0</td>\n",
       "    </tr>\n",
       "    <tr>\n",
       "      <th>MONTHS_BALANCE</th>\n",
       "      <td>27299925.0</td>\n",
       "      <td>-3.074169e+01</td>\n",
       "      <td>23.864509</td>\n",
       "      <td>-96.0</td>\n",
       "      <td>-46.0</td>\n",
       "      <td>-25.0</td>\n",
       "      <td>-11.0</td>\n",
       "      <td>0.0</td>\n",
       "    </tr>\n",
       "  </tbody>\n",
       "</table>\n",
       "</div>"
      ],
      "text/plain": [
       "                     count          mean            std        min        25%  \\\n",
       "SK_ID_BUREAU    27299925.0  6.036297e+06  492348.856904  5001709.0  5730933.0   \n",
       "MONTHS_BALANCE  27299925.0 -3.074169e+01      23.864509      -96.0      -46.0   \n",
       "\n",
       "                      50%        75%        max  \n",
       "SK_ID_BUREAU    6070821.0  6431951.0  6842888.0  \n",
       "MONTHS_BALANCE      -25.0      -11.0        0.0  "
      ]
     },
     "execution_count": 4,
     "metadata": {},
     "output_type": "execute_result"
    }
   ],
   "source": [
    "bb.describe().T"
   ]
  },
  {
   "cell_type": "markdown",
   "metadata": {},
   "source": [
    "Nan values"
   ]
  },
  {
   "cell_type": "code",
   "execution_count": 5,
   "metadata": {
    "colab": {
     "base_uri": "https://localhost:8080/"
    },
    "executionInfo": {
     "elapsed": 1183,
     "status": "ok",
     "timestamp": 1630501629909,
     "user": {
      "displayName": "Muhammet E.",
      "photoUrl": "https://lh3.googleusercontent.com/a-/AOh14GjR_Aur_0PxqIgoZ3YMoG4u-dCU_VTO0xRKuwEc=s64",
      "userId": "15007305613769181193"
     },
     "user_tz": -120
    },
    "id": "nh02kGTn8zZx",
    "outputId": "446243ff-765e-4c02-c112-aea4c07dd69e"
   },
   "outputs": [
    {
     "data": {
      "text/plain": [
       "SK_ID_BUREAU      0\n",
       "MONTHS_BALANCE    0\n",
       "STATUS            0\n",
       "dtype: int64"
      ]
     },
     "execution_count": 5,
     "metadata": {},
     "output_type": "execute_result"
    }
   ],
   "source": [
    "bb.isnull().sum()"
   ]
  },
  {
   "cell_type": "code",
   "execution_count": 6,
   "metadata": {
    "colab": {
     "base_uri": "https://localhost:8080/"
    },
    "executionInfo": {
     "elapsed": 963,
     "status": "ok",
     "timestamp": 1630501632764,
     "user": {
      "displayName": "Muhammet E.",
      "photoUrl": "https://lh3.googleusercontent.com/a-/AOh14GjR_Aur_0PxqIgoZ3YMoG4u-dCU_VTO0xRKuwEc=s64",
      "userId": "15007305613769181193"
     },
     "user_tz": -120
    },
    "id": "WQIVQo-u-a7f",
    "outputId": "2f7b0cf1-f589-45fd-b371-cad8bd898864"
   },
   "outputs": [
    {
     "data": {
      "text/plain": [
       "(array(['C', '0', 'X', '1', '2', '3', '5', '4'], dtype=object),\n",
       " C    13646993\n",
       " 0     7499507\n",
       " X     5810482\n",
       " 1      242347\n",
       " 5       62406\n",
       " 2       23419\n",
       " 3        8924\n",
       " 4        5847\n",
       " Name: STATUS, dtype: int64)"
      ]
     },
     "execution_count": 6,
     "metadata": {},
     "output_type": "execute_result"
    }
   ],
   "source": [
    "bb['STATUS'].unique(),bb['STATUS'].value_counts()"
   ]
  },
  {
   "cell_type": "code",
   "execution_count": 7,
   "metadata": {
    "colab": {
     "base_uri": "https://localhost:8080/"
    },
    "executionInfo": {
     "elapsed": 168,
     "status": "ok",
     "timestamp": 1630501641826,
     "user": {
      "displayName": "Muhammet E.",
      "photoUrl": "https://lh3.googleusercontent.com/a-/AOh14GjR_Aur_0PxqIgoZ3YMoG4u-dCU_VTO0xRKuwEc=s64",
      "userId": "15007305613769181193"
     },
     "user_tz": -120
    },
    "id": "uXRTSMh2wOmi",
    "outputId": "4d204797-0115-473c-c438-9589b0ce9987"
   },
   "outputs": [
    {
     "data": {
      "text/plain": [
       "array([  0,  -1,  -2,  -3,  -4,  -5,  -6,  -7,  -8,  -9, -10, -11, -12,\n",
       "       -13, -14, -15, -16, -17, -18, -19, -20, -21, -22, -23, -24, -25,\n",
       "       -26, -27, -28, -29, -30, -31, -32, -33, -34, -35, -36, -37, -38,\n",
       "       -39, -40, -41, -42, -43, -44, -45, -46, -47, -48, -49, -50, -51,\n",
       "       -52, -53, -54, -55, -56, -57, -58, -59, -60, -61, -62, -63, -64,\n",
       "       -65, -66, -67, -68, -69, -70, -71, -72, -73, -74, -75, -76, -77,\n",
       "       -78, -79, -80, -81, -82, -83, -84, -85, -86, -87, -88, -89, -90,\n",
       "       -91, -92, -93, -94, -95, -96], dtype=int64)"
      ]
     },
     "execution_count": 7,
     "metadata": {},
     "output_type": "execute_result"
    }
   ],
   "source": [
    "bb['MONTHS_BALANCE'].unique()"
   ]
  },
  {
   "cell_type": "code",
   "execution_count": 8,
   "metadata": {
    "executionInfo": {
     "elapsed": 568,
     "status": "ok",
     "timestamp": 1630501656211,
     "user": {
      "displayName": "Muhammet E.",
      "photoUrl": "https://lh3.googleusercontent.com/a-/AOh14GjR_Aur_0PxqIgoZ3YMoG4u-dCU_VTO0xRKuwEc=s64",
      "userId": "15007305613769181193"
     },
     "user_tz": -120
    },
    "id": "2C4P2q5Madka"
   },
   "outputs": [],
   "source": [
    "def summary(df, pred=None):\n",
    "    obs = df.shape[0]\n",
    "    Types = df.dtypes\n",
    "    Counts = df.apply(lambda x: x.count())\n",
    "    Min = df.min()\n",
    "    Max = df.max()\n",
    "    Uniques = df.apply(lambda x: x.unique().shape[0])\n",
    "    Nulls = df.apply(lambda x: x.isnull().sum())\n",
    "    print('Data shape:', df.shape)\n",
    "\n",
    "    if pred is None:\n",
    "        cols = ['Types', 'Counts', 'Uniques', 'Nulls', 'Min', 'Max']\n",
    "        str = pd.concat([Types, Counts, Uniques, Nulls, Min, Max], axis = 1, sort=True)\n",
    "\n",
    "    str.columns = cols\n",
    "    print('___________________________\\nData Types:')\n",
    "    print(str.Types.value_counts())\n",
    "    print('___________________________')\n",
    "    display(str.sort_values(by='Nulls', ascending=False))"
   ]
  },
  {
   "cell_type": "code",
   "execution_count": 9,
   "metadata": {
    "colab": {
     "base_uri": "https://localhost:8080/",
     "height": 261
    },
    "executionInfo": {
     "elapsed": 7532,
     "status": "ok",
     "timestamp": 1629805553303,
     "user": {
      "displayName": "Muhammet E.",
      "photoUrl": "https://lh3.googleusercontent.com/a-/AOh14GjR_Aur_0PxqIgoZ3YMoG4u-dCU_VTO0xRKuwEc=s64",
      "userId": "15007305613769181193"
     },
     "user_tz": -120
    },
    "id": "clbCg224afcz",
    "outputId": "555f0f44-2653-4e56-fb80-3fa1c42743c3"
   },
   "outputs": [
    {
     "name": "stdout",
     "output_type": "stream",
     "text": [
      "Data shape: (27299925, 3)\n",
      "___________________________\n",
      "Data Types:\n",
      "int64     2\n",
      "object    1\n",
      "Name: Types, dtype: int64\n",
      "___________________________\n"
     ]
    },
    {
     "data": {
      "text/html": [
       "<div>\n",
       "<style scoped>\n",
       "    .dataframe tbody tr th:only-of-type {\n",
       "        vertical-align: middle;\n",
       "    }\n",
       "\n",
       "    .dataframe tbody tr th {\n",
       "        vertical-align: top;\n",
       "    }\n",
       "\n",
       "    .dataframe thead th {\n",
       "        text-align: right;\n",
       "    }\n",
       "</style>\n",
       "<table border=\"1\" class=\"dataframe\">\n",
       "  <thead>\n",
       "    <tr style=\"text-align: right;\">\n",
       "      <th></th>\n",
       "      <th>Types</th>\n",
       "      <th>Counts</th>\n",
       "      <th>Uniques</th>\n",
       "      <th>Nulls</th>\n",
       "      <th>Min</th>\n",
       "      <th>Max</th>\n",
       "    </tr>\n",
       "  </thead>\n",
       "  <tbody>\n",
       "    <tr>\n",
       "      <th>MONTHS_BALANCE</th>\n",
       "      <td>int64</td>\n",
       "      <td>27299925</td>\n",
       "      <td>97</td>\n",
       "      <td>0</td>\n",
       "      <td>-96</td>\n",
       "      <td>0</td>\n",
       "    </tr>\n",
       "    <tr>\n",
       "      <th>SK_ID_BUREAU</th>\n",
       "      <td>int64</td>\n",
       "      <td>27299925</td>\n",
       "      <td>817395</td>\n",
       "      <td>0</td>\n",
       "      <td>5001709</td>\n",
       "      <td>6842888</td>\n",
       "    </tr>\n",
       "    <tr>\n",
       "      <th>STATUS</th>\n",
       "      <td>object</td>\n",
       "      <td>27299925</td>\n",
       "      <td>8</td>\n",
       "      <td>0</td>\n",
       "      <td>0</td>\n",
       "      <td>X</td>\n",
       "    </tr>\n",
       "  </tbody>\n",
       "</table>\n",
       "</div>"
      ],
      "text/plain": [
       "                 Types    Counts  Uniques  Nulls      Min      Max\n",
       "MONTHS_BALANCE   int64  27299925       97      0      -96        0\n",
       "SK_ID_BUREAU     int64  27299925   817395      0  5001709  6842888\n",
       "STATUS          object  27299925        8      0        0        X"
      ]
     },
     "metadata": {},
     "output_type": "display_data"
    }
   ],
   "source": [
    "summary(bb)"
   ]
  },
  {
   "cell_type": "markdown",
   "metadata": {},
   "source": [
    "PART1 : New FEATURE 1 counts_months by SK_ID_BUREAU\n",
    "\n",
    "Groupby the client id (SK_ID_BUREAU), count of the number of STATUS, and rename the column"
   ]
  },
  {
   "cell_type": "code",
   "execution_count": 10,
   "metadata": {
    "executionInfo": {
     "elapsed": 663,
     "status": "ok",
     "timestamp": 1630501682256,
     "user": {
      "displayName": "Muhammet E.",
      "photoUrl": "https://lh3.googleusercontent.com/a-/AOh14GjR_Aur_0PxqIgoZ3YMoG4u-dCU_VTO0xRKuwEc=s64",
      "userId": "15007305613769181193"
     },
     "user_tz": -120
    },
    "id": "uDyL4KbPuXdC"
   },
   "outputs": [],
   "source": [
    "counts_months = bb.groupby('SK_ID_BUREAU', as_index=False)['MONTHS_BALANCE'].count().rename(columns = {'MONTHS_BALANCE': 'counts_months'})"
   ]
  },
  {
   "cell_type": "code",
   "execution_count": 11,
   "metadata": {
    "colab": {
     "base_uri": "https://localhost:8080/",
     "height": 80
    },
    "executionInfo": {
     "elapsed": 196,
     "status": "ok",
     "timestamp": 1630501687088,
     "user": {
      "displayName": "Muhammet E.",
      "photoUrl": "https://lh3.googleusercontent.com/a-/AOh14GjR_Aur_0PxqIgoZ3YMoG4u-dCU_VTO0xRKuwEc=s64",
      "userId": "15007305613769181193"
     },
     "user_tz": -120
    },
    "id": "Q-FaXDex3-AB",
    "outputId": "194ad1e4-f45b-4def-9495-c0ae9ad63c6c"
   },
   "outputs": [
    {
     "data": {
      "text/html": [
       "<div>\n",
       "<style scoped>\n",
       "    .dataframe tbody tr th:only-of-type {\n",
       "        vertical-align: middle;\n",
       "    }\n",
       "\n",
       "    .dataframe tbody tr th {\n",
       "        vertical-align: top;\n",
       "    }\n",
       "\n",
       "    .dataframe thead th {\n",
       "        text-align: right;\n",
       "    }\n",
       "</style>\n",
       "<table border=\"1\" class=\"dataframe\">\n",
       "  <thead>\n",
       "    <tr style=\"text-align: right;\">\n",
       "      <th></th>\n",
       "      <th>SK_ID_BUREAU</th>\n",
       "      <th>counts_months</th>\n",
       "    </tr>\n",
       "  </thead>\n",
       "  <tbody>\n",
       "    <tr>\n",
       "      <th>730109</th>\n",
       "      <td>6653837</td>\n",
       "      <td>3</td>\n",
       "    </tr>\n",
       "  </tbody>\n",
       "</table>\n",
       "</div>"
      ],
      "text/plain": [
       "        SK_ID_BUREAU  counts_months\n",
       "730109       6653837              3"
      ]
     },
     "execution_count": 11,
     "metadata": {},
     "output_type": "execute_result"
    }
   ],
   "source": [
    "counts_months.sample()"
   ]
  },
  {
   "cell_type": "code",
   "execution_count": 12,
   "metadata": {
    "executionInfo": {
     "elapsed": 254,
     "status": "ok",
     "timestamp": 1630501989144,
     "user": {
      "displayName": "Muhammet E.",
      "photoUrl": "https://lh3.googleusercontent.com/a-/AOh14GjR_Aur_0PxqIgoZ3YMoG4u-dCU_VTO0xRKuwEc=s64",
      "userId": "15007305613769181193"
     },
     "user_tz": -120
    },
    "id": "8yYJF8eXfNBy"
   },
   "outputs": [],
   "source": [
    "def count_categorical(df, group_var, df_name):\n",
    "    \"\"\"Computes counts and normalized counts for each observation\n",
    "    of `group_var` of each unique category in every categorical variable\n",
    "    \n",
    "    Parameters\n",
    "    --------\n",
    "    df : dataframe \n",
    "        The dataframe to calculate the value counts for.\n",
    "        \n",
    "    group_var : string\n",
    "        The variable by which to group the dataframe. For each unique\n",
    "        value of this variable, the final dataframe will have one row\n",
    "        \n",
    "    df_name : string\n",
    "        Variable added to the front of column names to keep track of columns\n",
    "\n",
    "    \n",
    "    Return\n",
    "    --------\n",
    "    categorical : dataframe\n",
    "        A dataframe with counts and normalized counts of each unique category in every categorical variable\n",
    "        with one row for every unique value of the `group_var`.\n",
    "        \n",
    "    \"\"\"\n",
    "    \n",
    "    # Select the categorical columns\n",
    "    categorical = pd.get_dummies(df.select_dtypes('object'))\n",
    "\n",
    "    # Make sure to put the identifying id on the column\n",
    "    categorical[group_var] = df[group_var]\n",
    "\n",
    "    # Groupby the group var and calculate the sum and mean\n",
    "    categorical = categorical.groupby(group_var).agg(['sum', 'mean'])\n",
    "    \n",
    "    column_names = []\n",
    "    \n",
    "    # Iterate through the columns in level 0\n",
    "    for var in categorical.columns.levels[0]:\n",
    "        # Iterate through the stats in level 1\n",
    "        for stat in ['count', 'count_norm']:\n",
    "            # Make a new column name\n",
    "            column_names.append('%s_%s_%s' % (df_name, var, stat))\n",
    "    \n",
    "    categorical.columns = column_names\n",
    "    \n",
    "    return categorical"
   ]
  },
  {
   "cell_type": "markdown",
   "metadata": {},
   "source": [
    "PART 2 for the database (16 features)"
   ]
  },
  {
   "cell_type": "code",
   "execution_count": 13,
   "metadata": {
    "executionInfo": {
     "elapsed": 7773,
     "status": "ok",
     "timestamp": 1630502000751,
     "user": {
      "displayName": "Muhammet E.",
      "photoUrl": "https://lh3.googleusercontent.com/a-/AOh14GjR_Aur_0PxqIgoZ3YMoG4u-dCU_VTO0xRKuwEc=s64",
      "userId": "15007305613769181193"
     },
     "user_tz": -120
    },
    "id": "NsC2KnvugEan"
   },
   "outputs": [],
   "source": [
    "bb1 = count_categorical(bb, 'SK_ID_BUREAU', 'BB')"
   ]
  },
  {
   "cell_type": "code",
   "execution_count": 14,
   "metadata": {
    "colab": {
     "base_uri": "https://localhost:8080/",
     "height": 255
    },
    "executionInfo": {
     "elapsed": 193,
     "status": "ok",
     "timestamp": 1630502004852,
     "user": {
      "displayName": "Muhammet E.",
      "photoUrl": "https://lh3.googleusercontent.com/a-/AOh14GjR_Aur_0PxqIgoZ3YMoG4u-dCU_VTO0xRKuwEc=s64",
      "userId": "15007305613769181193"
     },
     "user_tz": -120
    },
    "id": "xJSRIzHjwgtw",
    "outputId": "e3bd08d1-ece1-4139-8388-e4e33f782316"
   },
   "outputs": [
    {
     "data": {
      "text/html": [
       "<div>\n",
       "<style scoped>\n",
       "    .dataframe tbody tr th:only-of-type {\n",
       "        vertical-align: middle;\n",
       "    }\n",
       "\n",
       "    .dataframe tbody tr th {\n",
       "        vertical-align: top;\n",
       "    }\n",
       "\n",
       "    .dataframe thead th {\n",
       "        text-align: right;\n",
       "    }\n",
       "</style>\n",
       "<table border=\"1\" class=\"dataframe\">\n",
       "  <thead>\n",
       "    <tr style=\"text-align: right;\">\n",
       "      <th></th>\n",
       "      <th>BB_STATUS_0_count</th>\n",
       "      <th>BB_STATUS_0_count_norm</th>\n",
       "      <th>BB_STATUS_1_count</th>\n",
       "      <th>BB_STATUS_1_count_norm</th>\n",
       "      <th>BB_STATUS_2_count</th>\n",
       "      <th>BB_STATUS_2_count_norm</th>\n",
       "      <th>BB_STATUS_3_count</th>\n",
       "      <th>BB_STATUS_3_count_norm</th>\n",
       "      <th>BB_STATUS_4_count</th>\n",
       "      <th>BB_STATUS_4_count_norm</th>\n",
       "      <th>BB_STATUS_5_count</th>\n",
       "      <th>BB_STATUS_5_count_norm</th>\n",
       "      <th>BB_STATUS_C_count</th>\n",
       "      <th>BB_STATUS_C_count_norm</th>\n",
       "      <th>BB_STATUS_X_count</th>\n",
       "      <th>BB_STATUS_X_count_norm</th>\n",
       "    </tr>\n",
       "    <tr>\n",
       "      <th>SK_ID_BUREAU</th>\n",
       "      <th></th>\n",
       "      <th></th>\n",
       "      <th></th>\n",
       "      <th></th>\n",
       "      <th></th>\n",
       "      <th></th>\n",
       "      <th></th>\n",
       "      <th></th>\n",
       "      <th></th>\n",
       "      <th></th>\n",
       "      <th></th>\n",
       "      <th></th>\n",
       "      <th></th>\n",
       "      <th></th>\n",
       "      <th></th>\n",
       "      <th></th>\n",
       "    </tr>\n",
       "  </thead>\n",
       "  <tbody>\n",
       "    <tr>\n",
       "      <th>5001709</th>\n",
       "      <td>0</td>\n",
       "      <td>0.000000</td>\n",
       "      <td>0</td>\n",
       "      <td>0.0</td>\n",
       "      <td>0</td>\n",
       "      <td>0.0</td>\n",
       "      <td>0</td>\n",
       "      <td>0.0</td>\n",
       "      <td>0</td>\n",
       "      <td>0.0</td>\n",
       "      <td>0</td>\n",
       "      <td>0.0</td>\n",
       "      <td>86</td>\n",
       "      <td>0.886598</td>\n",
       "      <td>11</td>\n",
       "      <td>0.113402</td>\n",
       "    </tr>\n",
       "    <tr>\n",
       "      <th>5001710</th>\n",
       "      <td>5</td>\n",
       "      <td>0.060241</td>\n",
       "      <td>0</td>\n",
       "      <td>0.0</td>\n",
       "      <td>0</td>\n",
       "      <td>0.0</td>\n",
       "      <td>0</td>\n",
       "      <td>0.0</td>\n",
       "      <td>0</td>\n",
       "      <td>0.0</td>\n",
       "      <td>0</td>\n",
       "      <td>0.0</td>\n",
       "      <td>48</td>\n",
       "      <td>0.578313</td>\n",
       "      <td>30</td>\n",
       "      <td>0.361446</td>\n",
       "    </tr>\n",
       "    <tr>\n",
       "      <th>5001711</th>\n",
       "      <td>3</td>\n",
       "      <td>0.750000</td>\n",
       "      <td>0</td>\n",
       "      <td>0.0</td>\n",
       "      <td>0</td>\n",
       "      <td>0.0</td>\n",
       "      <td>0</td>\n",
       "      <td>0.0</td>\n",
       "      <td>0</td>\n",
       "      <td>0.0</td>\n",
       "      <td>0</td>\n",
       "      <td>0.0</td>\n",
       "      <td>0</td>\n",
       "      <td>0.000000</td>\n",
       "      <td>1</td>\n",
       "      <td>0.250000</td>\n",
       "    </tr>\n",
       "    <tr>\n",
       "      <th>5001712</th>\n",
       "      <td>10</td>\n",
       "      <td>0.526316</td>\n",
       "      <td>0</td>\n",
       "      <td>0.0</td>\n",
       "      <td>0</td>\n",
       "      <td>0.0</td>\n",
       "      <td>0</td>\n",
       "      <td>0.0</td>\n",
       "      <td>0</td>\n",
       "      <td>0.0</td>\n",
       "      <td>0</td>\n",
       "      <td>0.0</td>\n",
       "      <td>9</td>\n",
       "      <td>0.473684</td>\n",
       "      <td>0</td>\n",
       "      <td>0.000000</td>\n",
       "    </tr>\n",
       "    <tr>\n",
       "      <th>5001713</th>\n",
       "      <td>0</td>\n",
       "      <td>0.000000</td>\n",
       "      <td>0</td>\n",
       "      <td>0.0</td>\n",
       "      <td>0</td>\n",
       "      <td>0.0</td>\n",
       "      <td>0</td>\n",
       "      <td>0.0</td>\n",
       "      <td>0</td>\n",
       "      <td>0.0</td>\n",
       "      <td>0</td>\n",
       "      <td>0.0</td>\n",
       "      <td>0</td>\n",
       "      <td>0.000000</td>\n",
       "      <td>22</td>\n",
       "      <td>1.000000</td>\n",
       "    </tr>\n",
       "  </tbody>\n",
       "</table>\n",
       "</div>"
      ],
      "text/plain": [
       "              BB_STATUS_0_count  BB_STATUS_0_count_norm  BB_STATUS_1_count  \\\n",
       "SK_ID_BUREAU                                                                 \n",
       "5001709                       0                0.000000                  0   \n",
       "5001710                       5                0.060241                  0   \n",
       "5001711                       3                0.750000                  0   \n",
       "5001712                      10                0.526316                  0   \n",
       "5001713                       0                0.000000                  0   \n",
       "\n",
       "              BB_STATUS_1_count_norm  BB_STATUS_2_count  \\\n",
       "SK_ID_BUREAU                                              \n",
       "5001709                          0.0                  0   \n",
       "5001710                          0.0                  0   \n",
       "5001711                          0.0                  0   \n",
       "5001712                          0.0                  0   \n",
       "5001713                          0.0                  0   \n",
       "\n",
       "              BB_STATUS_2_count_norm  BB_STATUS_3_count  \\\n",
       "SK_ID_BUREAU                                              \n",
       "5001709                          0.0                  0   \n",
       "5001710                          0.0                  0   \n",
       "5001711                          0.0                  0   \n",
       "5001712                          0.0                  0   \n",
       "5001713                          0.0                  0   \n",
       "\n",
       "              BB_STATUS_3_count_norm  BB_STATUS_4_count  \\\n",
       "SK_ID_BUREAU                                              \n",
       "5001709                          0.0                  0   \n",
       "5001710                          0.0                  0   \n",
       "5001711                          0.0                  0   \n",
       "5001712                          0.0                  0   \n",
       "5001713                          0.0                  0   \n",
       "\n",
       "              BB_STATUS_4_count_norm  BB_STATUS_5_count  \\\n",
       "SK_ID_BUREAU                                              \n",
       "5001709                          0.0                  0   \n",
       "5001710                          0.0                  0   \n",
       "5001711                          0.0                  0   \n",
       "5001712                          0.0                  0   \n",
       "5001713                          0.0                  0   \n",
       "\n",
       "              BB_STATUS_5_count_norm  BB_STATUS_C_count  \\\n",
       "SK_ID_BUREAU                                              \n",
       "5001709                          0.0                 86   \n",
       "5001710                          0.0                 48   \n",
       "5001711                          0.0                  0   \n",
       "5001712                          0.0                  9   \n",
       "5001713                          0.0                  0   \n",
       "\n",
       "              BB_STATUS_C_count_norm  BB_STATUS_X_count  \\\n",
       "SK_ID_BUREAU                                              \n",
       "5001709                     0.886598                 11   \n",
       "5001710                     0.578313                 30   \n",
       "5001711                     0.000000                  1   \n",
       "5001712                     0.473684                  0   \n",
       "5001713                     0.000000                 22   \n",
       "\n",
       "              BB_STATUS_X_count_norm  \n",
       "SK_ID_BUREAU                          \n",
       "5001709                     0.113402  \n",
       "5001710                     0.361446  \n",
       "5001711                     0.250000  \n",
       "5001712                     0.000000  \n",
       "5001713                     1.000000  "
      ]
     },
     "execution_count": 14,
     "metadata": {},
     "output_type": "execute_result"
    }
   ],
   "source": [
    "bb1.head()"
   ]
  },
  {
   "cell_type": "code",
   "execution_count": 15,
   "metadata": {
    "colab": {
     "base_uri": "https://localhost:8080/",
     "height": 664
    },
    "executionInfo": {
     "elapsed": 512,
     "status": "ok",
     "timestamp": 1630502010402,
     "user": {
      "displayName": "Muhammet E.",
      "photoUrl": "https://lh3.googleusercontent.com/a-/AOh14GjR_Aur_0PxqIgoZ3YMoG4u-dCU_VTO0xRKuwEc=s64",
      "userId": "15007305613769181193"
     },
     "user_tz": -120
    },
    "id": "UI0t8aacjAkh",
    "outputId": "83cf7863-0cec-40f5-8c36-f3975cfd5795"
   },
   "outputs": [
    {
     "name": "stdout",
     "output_type": "stream",
     "text": [
      "Data shape: (817395, 16)\n",
      "___________________________\n",
      "Data Types:\n",
      "uint8      8\n",
      "float64    8\n",
      "Name: Types, dtype: int64\n",
      "___________________________\n"
     ]
    },
    {
     "data": {
      "text/html": [
       "<div>\n",
       "<style scoped>\n",
       "    .dataframe tbody tr th:only-of-type {\n",
       "        vertical-align: middle;\n",
       "    }\n",
       "\n",
       "    .dataframe tbody tr th {\n",
       "        vertical-align: top;\n",
       "    }\n",
       "\n",
       "    .dataframe thead th {\n",
       "        text-align: right;\n",
       "    }\n",
       "</style>\n",
       "<table border=\"1\" class=\"dataframe\">\n",
       "  <thead>\n",
       "    <tr style=\"text-align: right;\">\n",
       "      <th></th>\n",
       "      <th>Types</th>\n",
       "      <th>Counts</th>\n",
       "      <th>Uniques</th>\n",
       "      <th>Nulls</th>\n",
       "      <th>Min</th>\n",
       "      <th>Max</th>\n",
       "    </tr>\n",
       "  </thead>\n",
       "  <tbody>\n",
       "    <tr>\n",
       "      <th>BB_STATUS_0_count</th>\n",
       "      <td>uint8</td>\n",
       "      <td>817395</td>\n",
       "      <td>98</td>\n",
       "      <td>0</td>\n",
       "      <td>0.0</td>\n",
       "      <td>97.000000</td>\n",
       "    </tr>\n",
       "    <tr>\n",
       "      <th>BB_STATUS_0_count_norm</th>\n",
       "      <td>float64</td>\n",
       "      <td>817395</td>\n",
       "      <td>2863</td>\n",
       "      <td>0</td>\n",
       "      <td>0.0</td>\n",
       "      <td>1.000000</td>\n",
       "    </tr>\n",
       "    <tr>\n",
       "      <th>BB_STATUS_1_count</th>\n",
       "      <td>uint8</td>\n",
       "      <td>817395</td>\n",
       "      <td>52</td>\n",
       "      <td>0</td>\n",
       "      <td>0.0</td>\n",
       "      <td>56.000000</td>\n",
       "    </tr>\n",
       "    <tr>\n",
       "      <th>BB_STATUS_1_count_norm</th>\n",
       "      <td>float64</td>\n",
       "      <td>817395</td>\n",
       "      <td>1187</td>\n",
       "      <td>0</td>\n",
       "      <td>0.0</td>\n",
       "      <td>1.000000</td>\n",
       "    </tr>\n",
       "    <tr>\n",
       "      <th>BB_STATUS_2_count</th>\n",
       "      <td>uint8</td>\n",
       "      <td>817395</td>\n",
       "      <td>19</td>\n",
       "      <td>0</td>\n",
       "      <td>0.0</td>\n",
       "      <td>39.000000</td>\n",
       "    </tr>\n",
       "    <tr>\n",
       "      <th>BB_STATUS_2_count_norm</th>\n",
       "      <td>float64</td>\n",
       "      <td>817395</td>\n",
       "      <td>420</td>\n",
       "      <td>0</td>\n",
       "      <td>0.0</td>\n",
       "      <td>0.714286</td>\n",
       "    </tr>\n",
       "    <tr>\n",
       "      <th>BB_STATUS_3_count</th>\n",
       "      <td>uint8</td>\n",
       "      <td>817395</td>\n",
       "      <td>12</td>\n",
       "      <td>0</td>\n",
       "      <td>0.0</td>\n",
       "      <td>18.000000</td>\n",
       "    </tr>\n",
       "    <tr>\n",
       "      <th>BB_STATUS_3_count_norm</th>\n",
       "      <td>float64</td>\n",
       "      <td>817395</td>\n",
       "      <td>249</td>\n",
       "      <td>0</td>\n",
       "      <td>0.0</td>\n",
       "      <td>0.400000</td>\n",
       "    </tr>\n",
       "    <tr>\n",
       "      <th>BB_STATUS_4_count</th>\n",
       "      <td>uint8</td>\n",
       "      <td>817395</td>\n",
       "      <td>13</td>\n",
       "      <td>0</td>\n",
       "      <td>0.0</td>\n",
       "      <td>12.000000</td>\n",
       "    </tr>\n",
       "    <tr>\n",
       "      <th>BB_STATUS_4_count_norm</th>\n",
       "      <td>float64</td>\n",
       "      <td>817395</td>\n",
       "      <td>201</td>\n",
       "      <td>0</td>\n",
       "      <td>0.0</td>\n",
       "      <td>0.500000</td>\n",
       "    </tr>\n",
       "    <tr>\n",
       "      <th>BB_STATUS_5_count</th>\n",
       "      <td>uint8</td>\n",
       "      <td>817395</td>\n",
       "      <td>90</td>\n",
       "      <td>0</td>\n",
       "      <td>0.0</td>\n",
       "      <td>97.000000</td>\n",
       "    </tr>\n",
       "    <tr>\n",
       "      <th>BB_STATUS_5_count_norm</th>\n",
       "      <td>float64</td>\n",
       "      <td>817395</td>\n",
       "      <td>1281</td>\n",
       "      <td>0</td>\n",
       "      <td>0.0</td>\n",
       "      <td>1.000000</td>\n",
       "    </tr>\n",
       "    <tr>\n",
       "      <th>BB_STATUS_C_count</th>\n",
       "      <td>uint8</td>\n",
       "      <td>817395</td>\n",
       "      <td>98</td>\n",
       "      <td>0</td>\n",
       "      <td>0.0</td>\n",
       "      <td>97.000000</td>\n",
       "    </tr>\n",
       "    <tr>\n",
       "      <th>BB_STATUS_C_count_norm</th>\n",
       "      <td>float64</td>\n",
       "      <td>817395</td>\n",
       "      <td>2852</td>\n",
       "      <td>0</td>\n",
       "      <td>0.0</td>\n",
       "      <td>1.000000</td>\n",
       "    </tr>\n",
       "    <tr>\n",
       "      <th>BB_STATUS_X_count</th>\n",
       "      <td>uint8</td>\n",
       "      <td>817395</td>\n",
       "      <td>98</td>\n",
       "      <td>0</td>\n",
       "      <td>0.0</td>\n",
       "      <td>97.000000</td>\n",
       "    </tr>\n",
       "    <tr>\n",
       "      <th>BB_STATUS_X_count_norm</th>\n",
       "      <td>float64</td>\n",
       "      <td>817395</td>\n",
       "      <td>2866</td>\n",
       "      <td>0</td>\n",
       "      <td>0.0</td>\n",
       "      <td>1.000000</td>\n",
       "    </tr>\n",
       "  </tbody>\n",
       "</table>\n",
       "</div>"
      ],
      "text/plain": [
       "                          Types  Counts  Uniques  Nulls  Min        Max\n",
       "BB_STATUS_0_count         uint8  817395       98      0  0.0  97.000000\n",
       "BB_STATUS_0_count_norm  float64  817395     2863      0  0.0   1.000000\n",
       "BB_STATUS_1_count         uint8  817395       52      0  0.0  56.000000\n",
       "BB_STATUS_1_count_norm  float64  817395     1187      0  0.0   1.000000\n",
       "BB_STATUS_2_count         uint8  817395       19      0  0.0  39.000000\n",
       "BB_STATUS_2_count_norm  float64  817395      420      0  0.0   0.714286\n",
       "BB_STATUS_3_count         uint8  817395       12      0  0.0  18.000000\n",
       "BB_STATUS_3_count_norm  float64  817395      249      0  0.0   0.400000\n",
       "BB_STATUS_4_count         uint8  817395       13      0  0.0  12.000000\n",
       "BB_STATUS_4_count_norm  float64  817395      201      0  0.0   0.500000\n",
       "BB_STATUS_5_count         uint8  817395       90      0  0.0  97.000000\n",
       "BB_STATUS_5_count_norm  float64  817395     1281      0  0.0   1.000000\n",
       "BB_STATUS_C_count         uint8  817395       98      0  0.0  97.000000\n",
       "BB_STATUS_C_count_norm  float64  817395     2852      0  0.0   1.000000\n",
       "BB_STATUS_X_count         uint8  817395       98      0  0.0  97.000000\n",
       "BB_STATUS_X_count_norm  float64  817395     2866      0  0.0   1.000000"
      ]
     },
     "metadata": {},
     "output_type": "display_data"
    }
   ],
   "source": [
    "summary(bb1)"
   ]
  },
  {
   "cell_type": "markdown",
   "metadata": {},
   "source": [
    "MERGING THE TWO PARTS"
   ]
  },
  {
   "cell_type": "code",
   "execution_count": 16,
   "metadata": {
    "executionInfo": {
     "elapsed": 926,
     "status": "ok",
     "timestamp": 1630502095154,
     "user": {
      "displayName": "Muhammet E.",
      "photoUrl": "https://lh3.googleusercontent.com/a-/AOh14GjR_Aur_0PxqIgoZ3YMoG4u-dCU_VTO0xRKuwEc=s64",
      "userId": "15007305613769181193"
     },
     "user_tz": -120
    },
    "id": "smpjuA9wjTXe"
   },
   "outputs": [],
   "source": [
    "result = pd.merge(bb1, counts_months, on=\"SK_ID_BUREAU\")"
   ]
  },
  {
   "cell_type": "code",
   "execution_count": 17,
   "metadata": {
    "colab": {
     "base_uri": "https://localhost:8080/",
     "height": 224
    },
    "executionInfo": {
     "elapsed": 162,
     "status": "ok",
     "timestamp": 1630502099331,
     "user": {
      "displayName": "Muhammet E.",
      "photoUrl": "https://lh3.googleusercontent.com/a-/AOh14GjR_Aur_0PxqIgoZ3YMoG4u-dCU_VTO0xRKuwEc=s64",
      "userId": "15007305613769181193"
     },
     "user_tz": -120
    },
    "id": "A8yd-cLz1Fgc",
    "outputId": "6edbab3f-c377-41ad-9fac-9d7ba75ee50a"
   },
   "outputs": [
    {
     "data": {
      "text/html": [
       "<div>\n",
       "<style scoped>\n",
       "    .dataframe tbody tr th:only-of-type {\n",
       "        vertical-align: middle;\n",
       "    }\n",
       "\n",
       "    .dataframe tbody tr th {\n",
       "        vertical-align: top;\n",
       "    }\n",
       "\n",
       "    .dataframe thead th {\n",
       "        text-align: right;\n",
       "    }\n",
       "</style>\n",
       "<table border=\"1\" class=\"dataframe\">\n",
       "  <thead>\n",
       "    <tr style=\"text-align: right;\">\n",
       "      <th></th>\n",
       "      <th>SK_ID_BUREAU</th>\n",
       "      <th>BB_STATUS_0_count</th>\n",
       "      <th>BB_STATUS_0_count_norm</th>\n",
       "      <th>BB_STATUS_1_count</th>\n",
       "      <th>BB_STATUS_1_count_norm</th>\n",
       "      <th>BB_STATUS_2_count</th>\n",
       "      <th>BB_STATUS_2_count_norm</th>\n",
       "      <th>BB_STATUS_3_count</th>\n",
       "      <th>BB_STATUS_3_count_norm</th>\n",
       "      <th>BB_STATUS_4_count</th>\n",
       "      <th>BB_STATUS_4_count_norm</th>\n",
       "      <th>BB_STATUS_5_count</th>\n",
       "      <th>BB_STATUS_5_count_norm</th>\n",
       "      <th>BB_STATUS_C_count</th>\n",
       "      <th>BB_STATUS_C_count_norm</th>\n",
       "      <th>BB_STATUS_X_count</th>\n",
       "      <th>BB_STATUS_X_count_norm</th>\n",
       "      <th>counts_months</th>\n",
       "    </tr>\n",
       "  </thead>\n",
       "  <tbody>\n",
       "    <tr>\n",
       "      <th>0</th>\n",
       "      <td>5001709</td>\n",
       "      <td>0</td>\n",
       "      <td>0.000000</td>\n",
       "      <td>0</td>\n",
       "      <td>0.0</td>\n",
       "      <td>0</td>\n",
       "      <td>0.0</td>\n",
       "      <td>0</td>\n",
       "      <td>0.0</td>\n",
       "      <td>0</td>\n",
       "      <td>0.0</td>\n",
       "      <td>0</td>\n",
       "      <td>0.0</td>\n",
       "      <td>86</td>\n",
       "      <td>0.886598</td>\n",
       "      <td>11</td>\n",
       "      <td>0.113402</td>\n",
       "      <td>97</td>\n",
       "    </tr>\n",
       "    <tr>\n",
       "      <th>1</th>\n",
       "      <td>5001710</td>\n",
       "      <td>5</td>\n",
       "      <td>0.060241</td>\n",
       "      <td>0</td>\n",
       "      <td>0.0</td>\n",
       "      <td>0</td>\n",
       "      <td>0.0</td>\n",
       "      <td>0</td>\n",
       "      <td>0.0</td>\n",
       "      <td>0</td>\n",
       "      <td>0.0</td>\n",
       "      <td>0</td>\n",
       "      <td>0.0</td>\n",
       "      <td>48</td>\n",
       "      <td>0.578313</td>\n",
       "      <td>30</td>\n",
       "      <td>0.361446</td>\n",
       "      <td>83</td>\n",
       "    </tr>\n",
       "    <tr>\n",
       "      <th>2</th>\n",
       "      <td>5001711</td>\n",
       "      <td>3</td>\n",
       "      <td>0.750000</td>\n",
       "      <td>0</td>\n",
       "      <td>0.0</td>\n",
       "      <td>0</td>\n",
       "      <td>0.0</td>\n",
       "      <td>0</td>\n",
       "      <td>0.0</td>\n",
       "      <td>0</td>\n",
       "      <td>0.0</td>\n",
       "      <td>0</td>\n",
       "      <td>0.0</td>\n",
       "      <td>0</td>\n",
       "      <td>0.000000</td>\n",
       "      <td>1</td>\n",
       "      <td>0.250000</td>\n",
       "      <td>4</td>\n",
       "    </tr>\n",
       "    <tr>\n",
       "      <th>3</th>\n",
       "      <td>5001712</td>\n",
       "      <td>10</td>\n",
       "      <td>0.526316</td>\n",
       "      <td>0</td>\n",
       "      <td>0.0</td>\n",
       "      <td>0</td>\n",
       "      <td>0.0</td>\n",
       "      <td>0</td>\n",
       "      <td>0.0</td>\n",
       "      <td>0</td>\n",
       "      <td>0.0</td>\n",
       "      <td>0</td>\n",
       "      <td>0.0</td>\n",
       "      <td>9</td>\n",
       "      <td>0.473684</td>\n",
       "      <td>0</td>\n",
       "      <td>0.000000</td>\n",
       "      <td>19</td>\n",
       "    </tr>\n",
       "    <tr>\n",
       "      <th>4</th>\n",
       "      <td>5001713</td>\n",
       "      <td>0</td>\n",
       "      <td>0.000000</td>\n",
       "      <td>0</td>\n",
       "      <td>0.0</td>\n",
       "      <td>0</td>\n",
       "      <td>0.0</td>\n",
       "      <td>0</td>\n",
       "      <td>0.0</td>\n",
       "      <td>0</td>\n",
       "      <td>0.0</td>\n",
       "      <td>0</td>\n",
       "      <td>0.0</td>\n",
       "      <td>0</td>\n",
       "      <td>0.000000</td>\n",
       "      <td>22</td>\n",
       "      <td>1.000000</td>\n",
       "      <td>22</td>\n",
       "    </tr>\n",
       "  </tbody>\n",
       "</table>\n",
       "</div>"
      ],
      "text/plain": [
       "   SK_ID_BUREAU  BB_STATUS_0_count  BB_STATUS_0_count_norm  BB_STATUS_1_count  \\\n",
       "0       5001709                  0                0.000000                  0   \n",
       "1       5001710                  5                0.060241                  0   \n",
       "2       5001711                  3                0.750000                  0   \n",
       "3       5001712                 10                0.526316                  0   \n",
       "4       5001713                  0                0.000000                  0   \n",
       "\n",
       "   BB_STATUS_1_count_norm  BB_STATUS_2_count  BB_STATUS_2_count_norm  \\\n",
       "0                     0.0                  0                     0.0   \n",
       "1                     0.0                  0                     0.0   \n",
       "2                     0.0                  0                     0.0   \n",
       "3                     0.0                  0                     0.0   \n",
       "4                     0.0                  0                     0.0   \n",
       "\n",
       "   BB_STATUS_3_count  BB_STATUS_3_count_norm  BB_STATUS_4_count  \\\n",
       "0                  0                     0.0                  0   \n",
       "1                  0                     0.0                  0   \n",
       "2                  0                     0.0                  0   \n",
       "3                  0                     0.0                  0   \n",
       "4                  0                     0.0                  0   \n",
       "\n",
       "   BB_STATUS_4_count_norm  BB_STATUS_5_count  BB_STATUS_5_count_norm  \\\n",
       "0                     0.0                  0                     0.0   \n",
       "1                     0.0                  0                     0.0   \n",
       "2                     0.0                  0                     0.0   \n",
       "3                     0.0                  0                     0.0   \n",
       "4                     0.0                  0                     0.0   \n",
       "\n",
       "   BB_STATUS_C_count  BB_STATUS_C_count_norm  BB_STATUS_X_count  \\\n",
       "0                 86                0.886598                 11   \n",
       "1                 48                0.578313                 30   \n",
       "2                  0                0.000000                  1   \n",
       "3                  9                0.473684                  0   \n",
       "4                  0                0.000000                 22   \n",
       "\n",
       "   BB_STATUS_X_count_norm  counts_months  \n",
       "0                0.113402             97  \n",
       "1                0.361446             83  \n",
       "2                0.250000              4  \n",
       "3                0.000000             19  \n",
       "4                1.000000             22  "
      ]
     },
     "execution_count": 17,
     "metadata": {},
     "output_type": "execute_result"
    }
   ],
   "source": [
    "result.head()"
   ]
  },
  {
   "cell_type": "code",
   "execution_count": null,
   "metadata": {
    "colab": {
     "base_uri": "https://localhost:8080/",
     "height": 743
    },
    "executionInfo": {
     "elapsed": 541,
     "status": "ok",
     "timestamp": 1629805563649,
     "user": {
      "displayName": "Muhammet E.",
      "photoUrl": "https://lh3.googleusercontent.com/a-/AOh14GjR_Aur_0PxqIgoZ3YMoG4u-dCU_VTO0xRKuwEc=s64",
      "userId": "15007305613769181193"
     },
     "user_tz": -120
    },
    "id": "xx9ZZqcN0_tb",
    "outputId": "3d5c6ac1-9242-4e3f-f5f1-15db0ea76e07"
   },
   "outputs": [
    {
     "name": "stdout",
     "output_type": "stream",
     "text": [
      "Data shape: (817395, 18)\n",
      "___________________________\n",
      "Data Types:\n",
      "float64    8\n",
      "uint8      8\n",
      "int64      2\n",
      "Name: Types, dtype: int64\n",
      "___________________________\n"
     ]
    },
    {
     "data": {
      "text/html": [
       "<div>\n",
       "<style scoped>\n",
       "    .dataframe tbody tr th:only-of-type {\n",
       "        vertical-align: middle;\n",
       "    }\n",
       "\n",
       "    .dataframe tbody tr th {\n",
       "        vertical-align: top;\n",
       "    }\n",
       "\n",
       "    .dataframe thead th {\n",
       "        text-align: right;\n",
       "    }\n",
       "</style>\n",
       "<table border=\"1\" class=\"dataframe\">\n",
       "  <thead>\n",
       "    <tr style=\"text-align: right;\">\n",
       "      <th></th>\n",
       "      <th>Types</th>\n",
       "      <th>Counts</th>\n",
       "      <th>Uniques</th>\n",
       "      <th>Nulls</th>\n",
       "      <th>Min</th>\n",
       "      <th>Max</th>\n",
       "    </tr>\n",
       "  </thead>\n",
       "  <tbody>\n",
       "    <tr>\n",
       "      <th>BB_STATUS_0_count</th>\n",
       "      <td>uint8</td>\n",
       "      <td>817395</td>\n",
       "      <td>98</td>\n",
       "      <td>0</td>\n",
       "      <td>0.0</td>\n",
       "      <td>9.700000e+01</td>\n",
       "    </tr>\n",
       "    <tr>\n",
       "      <th>BB_STATUS_0_count_norm</th>\n",
       "      <td>float64</td>\n",
       "      <td>817395</td>\n",
       "      <td>2863</td>\n",
       "      <td>0</td>\n",
       "      <td>0.0</td>\n",
       "      <td>1.000000e+00</td>\n",
       "    </tr>\n",
       "    <tr>\n",
       "      <th>SK_ID_BUREAU</th>\n",
       "      <td>int64</td>\n",
       "      <td>817395</td>\n",
       "      <td>817395</td>\n",
       "      <td>0</td>\n",
       "      <td>5001709.0</td>\n",
       "      <td>6.842888e+06</td>\n",
       "    </tr>\n",
       "    <tr>\n",
       "      <th>BB_STATUS_X_count_norm</th>\n",
       "      <td>float64</td>\n",
       "      <td>817395</td>\n",
       "      <td>2866</td>\n",
       "      <td>0</td>\n",
       "      <td>0.0</td>\n",
       "      <td>1.000000e+00</td>\n",
       "    </tr>\n",
       "    <tr>\n",
       "      <th>BB_STATUS_X_count</th>\n",
       "      <td>uint8</td>\n",
       "      <td>817395</td>\n",
       "      <td>98</td>\n",
       "      <td>0</td>\n",
       "      <td>0.0</td>\n",
       "      <td>9.700000e+01</td>\n",
       "    </tr>\n",
       "    <tr>\n",
       "      <th>BB_STATUS_C_count_norm</th>\n",
       "      <td>float64</td>\n",
       "      <td>817395</td>\n",
       "      <td>2852</td>\n",
       "      <td>0</td>\n",
       "      <td>0.0</td>\n",
       "      <td>1.000000e+00</td>\n",
       "    </tr>\n",
       "    <tr>\n",
       "      <th>BB_STATUS_C_count</th>\n",
       "      <td>uint8</td>\n",
       "      <td>817395</td>\n",
       "      <td>98</td>\n",
       "      <td>0</td>\n",
       "      <td>0.0</td>\n",
       "      <td>9.700000e+01</td>\n",
       "    </tr>\n",
       "    <tr>\n",
       "      <th>BB_STATUS_5_count_norm</th>\n",
       "      <td>float64</td>\n",
       "      <td>817395</td>\n",
       "      <td>1281</td>\n",
       "      <td>0</td>\n",
       "      <td>0.0</td>\n",
       "      <td>1.000000e+00</td>\n",
       "    </tr>\n",
       "    <tr>\n",
       "      <th>BB_STATUS_5_count</th>\n",
       "      <td>uint8</td>\n",
       "      <td>817395</td>\n",
       "      <td>90</td>\n",
       "      <td>0</td>\n",
       "      <td>0.0</td>\n",
       "      <td>9.700000e+01</td>\n",
       "    </tr>\n",
       "    <tr>\n",
       "      <th>BB_STATUS_4_count_norm</th>\n",
       "      <td>float64</td>\n",
       "      <td>817395</td>\n",
       "      <td>201</td>\n",
       "      <td>0</td>\n",
       "      <td>0.0</td>\n",
       "      <td>5.000000e-01</td>\n",
       "    </tr>\n",
       "    <tr>\n",
       "      <th>BB_STATUS_4_count</th>\n",
       "      <td>uint8</td>\n",
       "      <td>817395</td>\n",
       "      <td>13</td>\n",
       "      <td>0</td>\n",
       "      <td>0.0</td>\n",
       "      <td>1.200000e+01</td>\n",
       "    </tr>\n",
       "    <tr>\n",
       "      <th>BB_STATUS_3_count_norm</th>\n",
       "      <td>float64</td>\n",
       "      <td>817395</td>\n",
       "      <td>249</td>\n",
       "      <td>0</td>\n",
       "      <td>0.0</td>\n",
       "      <td>4.000000e-01</td>\n",
       "    </tr>\n",
       "    <tr>\n",
       "      <th>BB_STATUS_3_count</th>\n",
       "      <td>uint8</td>\n",
       "      <td>817395</td>\n",
       "      <td>12</td>\n",
       "      <td>0</td>\n",
       "      <td>0.0</td>\n",
       "      <td>1.800000e+01</td>\n",
       "    </tr>\n",
       "    <tr>\n",
       "      <th>BB_STATUS_2_count_norm</th>\n",
       "      <td>float64</td>\n",
       "      <td>817395</td>\n",
       "      <td>420</td>\n",
       "      <td>0</td>\n",
       "      <td>0.0</td>\n",
       "      <td>7.142857e-01</td>\n",
       "    </tr>\n",
       "    <tr>\n",
       "      <th>BB_STATUS_2_count</th>\n",
       "      <td>uint8</td>\n",
       "      <td>817395</td>\n",
       "      <td>19</td>\n",
       "      <td>0</td>\n",
       "      <td>0.0</td>\n",
       "      <td>3.900000e+01</td>\n",
       "    </tr>\n",
       "    <tr>\n",
       "      <th>BB_STATUS_1_count_norm</th>\n",
       "      <td>float64</td>\n",
       "      <td>817395</td>\n",
       "      <td>1187</td>\n",
       "      <td>0</td>\n",
       "      <td>0.0</td>\n",
       "      <td>1.000000e+00</td>\n",
       "    </tr>\n",
       "    <tr>\n",
       "      <th>BB_STATUS_1_count</th>\n",
       "      <td>uint8</td>\n",
       "      <td>817395</td>\n",
       "      <td>52</td>\n",
       "      <td>0</td>\n",
       "      <td>0.0</td>\n",
       "      <td>5.600000e+01</td>\n",
       "    </tr>\n",
       "    <tr>\n",
       "      <th>counts_months</th>\n",
       "      <td>int64</td>\n",
       "      <td>817395</td>\n",
       "      <td>97</td>\n",
       "      <td>0</td>\n",
       "      <td>1.0</td>\n",
       "      <td>9.700000e+01</td>\n",
       "    </tr>\n",
       "  </tbody>\n",
       "</table>\n",
       "</div>"
      ],
      "text/plain": [
       "                          Types  Counts  ...        Min           Max\n",
       "BB_STATUS_0_count         uint8  817395  ...        0.0  9.700000e+01\n",
       "BB_STATUS_0_count_norm  float64  817395  ...        0.0  1.000000e+00\n",
       "SK_ID_BUREAU              int64  817395  ...  5001709.0  6.842888e+06\n",
       "BB_STATUS_X_count_norm  float64  817395  ...        0.0  1.000000e+00\n",
       "BB_STATUS_X_count         uint8  817395  ...        0.0  9.700000e+01\n",
       "BB_STATUS_C_count_norm  float64  817395  ...        0.0  1.000000e+00\n",
       "BB_STATUS_C_count         uint8  817395  ...        0.0  9.700000e+01\n",
       "BB_STATUS_5_count_norm  float64  817395  ...        0.0  1.000000e+00\n",
       "BB_STATUS_5_count         uint8  817395  ...        0.0  9.700000e+01\n",
       "BB_STATUS_4_count_norm  float64  817395  ...        0.0  5.000000e-01\n",
       "BB_STATUS_4_count         uint8  817395  ...        0.0  1.200000e+01\n",
       "BB_STATUS_3_count_norm  float64  817395  ...        0.0  4.000000e-01\n",
       "BB_STATUS_3_count         uint8  817395  ...        0.0  1.800000e+01\n",
       "BB_STATUS_2_count_norm  float64  817395  ...        0.0  7.142857e-01\n",
       "BB_STATUS_2_count         uint8  817395  ...        0.0  3.900000e+01\n",
       "BB_STATUS_1_count_norm  float64  817395  ...        0.0  1.000000e+00\n",
       "BB_STATUS_1_count         uint8  817395  ...        0.0  5.600000e+01\n",
       "counts_months             int64  817395  ...        1.0  9.700000e+01\n",
       "\n",
       "[18 rows x 6 columns]"
      ]
     },
     "metadata": {},
     "output_type": "display_data"
    }
   ],
   "source": [
    "summary(result)"
   ]
  },
  {
   "cell_type": "markdown",
   "metadata": {},
   "source": [
    "a new feature "
   ]
  },
  {
   "cell_type": "code",
   "execution_count": 18,
   "metadata": {
    "executionInfo": {
     "elapsed": 217,
     "status": "ok",
     "timestamp": 1630502343655,
     "user": {
      "displayName": "Muhammet E.",
      "photoUrl": "https://lh3.googleusercontent.com/a-/AOh14GjR_Aur_0PxqIgoZ3YMoG4u-dCU_VTO0xRKuwEc=s64",
      "userId": "15007305613769181193"
     },
     "user_tz": -120
    },
    "id": "3T-rCQ6igBnJ"
   },
   "outputs": [],
   "source": [
    "result['status_rate'] = result['BB_STATUS_5_count_norm'] + result['BB_STATUS_4_count_norm'] + result['BB_STATUS_3_count_norm'] + result['BB_STATUS_2_count_norm'] + result['BB_STATUS_1_count_norm']"
   ]
  },
  {
   "cell_type": "code",
   "execution_count": 22,
   "metadata": {
    "executionInfo": {
     "elapsed": 184,
     "status": "ok",
     "timestamp": 1630502401856,
     "user": {
      "displayName": "Muhammet E.",
      "photoUrl": "https://lh3.googleusercontent.com/a-/AOh14GjR_Aur_0PxqIgoZ3YMoG4u-dCU_VTO0xRKuwEc=s64",
      "userId": "15007305613769181193"
     },
     "user_tz": -120
    },
    "id": "HnFkDfg38mvW"
   },
   "outputs": [],
   "source": [
    "# function for diminishing memory used. (optional) \n",
    "import sys\n",
    "\n",
    "# def return_size(df):\n",
    "#     \"\"\"Return size of dataframe in gigabytes\"\"\"\n",
    "#     return round(sys.getsizeof(df) / 1e9, 2)\n",
    "\n",
    "def convert_types(df, print_info = False):\n",
    "    \n",
    "    original_memory = df.memory_usage().sum()\n",
    "    \n",
    "    # Iterate through each column\n",
    "    for c in df:\n",
    "        \n",
    "        # Convert ids and booleans to integers\n",
    "        if ('SK_ID' in c):\n",
    "            df[c] = df[c].fillna(0).astype(np.int32)\n",
    "            \n",
    "        # Convert objects to category\n",
    "        elif (df[c].dtype == 'object') and (df[c].nunique() < df.shape[0]):\n",
    "            df[c] = df[c].astype('category')\n",
    "        \n",
    "        # Booleans mapped to integers\n",
    "        elif list(df[c].unique()) == [1, 0]:\n",
    "            df[c] = df[c].astype(bool)\n",
    "        \n",
    "        # Float64 to float32\n",
    "        elif df[c].dtype == float:\n",
    "            df[c] = df[c].astype(np.float32)\n",
    "            \n",
    "        # Int64 to int32\n",
    "        elif df[c].dtype == int:\n",
    "            df[c] = df[c].astype(np.int32)\n",
    "        \n",
    "    new_memory = df.memory_usage().sum()\n",
    "    \n",
    "    if print_info:\n",
    "        print(f'Original Memory Usage: {round(original_memory / 1e9, 2)} gb.')\n",
    "        print(f'New Memory Usage: {round(new_memory / 1e9, 2)} gb.')\n",
    "        \n",
    "    return df"
   ]
  },
  {
   "cell_type": "code",
   "execution_count": 23,
   "metadata": {
    "executionInfo": {
     "elapsed": 211,
     "status": "ok",
     "timestamp": 1630502410769,
     "user": {
      "displayName": "Muhammet E.",
      "photoUrl": "https://lh3.googleusercontent.com/a-/AOh14GjR_Aur_0PxqIgoZ3YMoG4u-dCU_VTO0xRKuwEc=s64",
      "userId": "15007305613769181193"
     },
     "user_tz": -120
    },
    "id": "VptbsIPZ80-y"
   },
   "outputs": [],
   "source": [
    "bb_ready = convert_types(result, print_info = False)"
   ]
  },
  {
   "cell_type": "code",
   "execution_count": 27,
   "metadata": {
    "executionInfo": {
     "elapsed": 8321,
     "status": "ok",
     "timestamp": 1630502445032,
     "user": {
      "displayName": "Muhammet E.",
      "photoUrl": "https://lh3.googleusercontent.com/a-/AOh14GjR_Aur_0PxqIgoZ3YMoG4u-dCU_VTO0xRKuwEc=s64",
      "userId": "15007305613769181193"
     },
     "user_tz": -120
    },
    "id": "Z1NCq0eZ9fS0"
   },
   "outputs": [],
   "source": [
    "result.to_csv('/content/drive/MyDrive/Home Credit/home-credit-default-risk/bb_ready.csv', index=False)"
   ]
  }
 ],
 "metadata": {
  "accelerator": "GPU",
  "colab": {
   "collapsed_sections": [],
   "name": "muhammet_bureau_balance.ipynb",
   "provenance": []
  },
  "kernelspec": {
   "display_name": "Python 3",
   "language": "python",
   "name": "python3"
  },
  "language_info": {
   "codemirror_mode": {
    "name": "ipython",
    "version": 3
   },
   "file_extension": ".py",
   "mimetype": "text/x-python",
   "name": "python",
   "nbconvert_exporter": "python",
   "pygments_lexer": "ipython3",
   "version": "3.8.5"
  }
 },
 "nbformat": 4,
 "nbformat_minor": 1
}
